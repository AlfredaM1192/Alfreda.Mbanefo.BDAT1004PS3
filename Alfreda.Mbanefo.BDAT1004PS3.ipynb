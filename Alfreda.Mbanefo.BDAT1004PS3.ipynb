{
 "cells": [
  {
   "cell_type": "markdown",
   "id": "f9b6d006",
   "metadata": {},
   "source": [
    "# Question 1\n"
   ]
  },
  {
   "cell_type": "code",
   "execution_count": 4,
   "id": "562cc286",
   "metadata": {},
   "outputs": [
    {
     "name": "stdout",
     "output_type": "stream",
     "text": [
      "Mean Age Per Occupation:\n",
      " occupation\n",
      "administrator    38.746835\n",
      "artist           31.392857\n",
      "doctor           43.571429\n",
      "educator         42.010526\n",
      "engineer         36.388060\n",
      "entertainment    29.222222\n",
      "executive        38.718750\n",
      "healthcare       41.562500\n",
      "homemaker        32.571429\n",
      "lawyer           36.750000\n",
      "librarian        40.000000\n",
      "marketing        37.615385\n",
      "none             26.555556\n",
      "other            34.523810\n",
      "programmer       33.121212\n",
      "retired          63.071429\n",
      "salesman         35.666667\n",
      "scientist        35.548387\n",
      "student          22.081633\n",
      "technician       33.148148\n",
      "writer           36.311111\n",
      "Name: age, dtype: float64\n",
      "\n",
      "Male Ratio Per Occupation:\n",
      " occupation\n",
      "doctor           1.000000\n",
      "engineer         0.970149\n",
      "technician       0.962963\n",
      "retired          0.928571\n",
      "programmer       0.909091\n",
      "executive        0.906250\n",
      "scientist        0.903226\n",
      "entertainment    0.888889\n",
      "lawyer           0.833333\n",
      "salesman         0.750000\n",
      "educator         0.726316\n",
      "student          0.693878\n",
      "other            0.657143\n",
      "marketing        0.615385\n",
      "writer           0.577778\n",
      "none             0.555556\n",
      "administrator    0.544304\n",
      "artist           0.535714\n",
      "librarian        0.431373\n",
      "healthcare       0.312500\n",
      "homemaker        0.142857\n",
      "Name: gender, dtype: float64\n",
      "\n",
      "Minimum and Maximum Ages Per Occupation:\n",
      "                min  max\n",
      "occupation             \n",
      "administrator   21   70\n",
      "artist          19   48\n",
      "doctor          28   64\n",
      "educator        23   63\n",
      "engineer        22   70\n",
      "entertainment   15   50\n",
      "executive       22   69\n",
      "healthcare      22   62\n",
      "homemaker       20   50\n",
      "lawyer          21   53\n",
      "librarian       23   69\n",
      "marketing       24   55\n",
      "none            11   55\n",
      "other           13   64\n",
      "programmer      20   63\n",
      "retired         51   73\n",
      "salesman        18   66\n",
      "scientist       23   55\n",
      "student          7   42\n",
      "technician      21   55\n",
      "writer          18   60\n",
      "\n",
      "Mean Age Per Occupation and Sex:\n",
      " occupation     gender\n",
      "administrator  F         40.638889\n",
      "               M         37.162791\n",
      "artist         F         30.307692\n",
      "               M         32.333333\n",
      "doctor         M         43.571429\n",
      "educator       F         39.115385\n",
      "               M         43.101449\n",
      "engineer       F         29.500000\n",
      "               M         36.600000\n",
      "entertainment  F         31.000000\n",
      "               M         29.000000\n",
      "executive      F         44.000000\n",
      "               M         38.172414\n",
      "healthcare     F         39.818182\n",
      "               M         45.400000\n",
      "homemaker      F         34.166667\n",
      "               M         23.000000\n",
      "lawyer         F         39.500000\n",
      "               M         36.200000\n",
      "librarian      F         40.000000\n",
      "               M         40.000000\n",
      "marketing      F         37.200000\n",
      "               M         37.875000\n",
      "none           F         36.500000\n",
      "               M         18.600000\n",
      "other          F         35.472222\n",
      "               M         34.028986\n",
      "programmer     F         32.166667\n",
      "               M         33.216667\n",
      "retired        F         70.000000\n",
      "               M         62.538462\n",
      "salesman       F         27.000000\n",
      "               M         38.555556\n",
      "scientist      F         28.333333\n",
      "               M         36.321429\n",
      "student        F         20.750000\n",
      "               M         22.669118\n",
      "technician     F         38.000000\n",
      "               M         32.961538\n",
      "writer         F         37.631579\n",
      "               M         35.346154\n",
      "Name: age, dtype: float64\n",
      "\n",
      "Percentage of Women and Men Per Occupation:\n",
      "                       age      gender  user_id  zip_code\n",
      "occupation    gender                                    \n",
      "administrator F       NaN   45.569620      NaN       NaN\n",
      "              M       NaN   54.430380      NaN       NaN\n",
      "artist        F       NaN   46.428571      NaN       NaN\n",
      "              M       NaN   53.571429      NaN       NaN\n",
      "doctor        M       NaN  100.000000      NaN       NaN\n",
      "educator      F       NaN   27.368421      NaN       NaN\n",
      "              M       NaN   72.631579      NaN       NaN\n",
      "engineer      F       NaN    2.985075      NaN       NaN\n",
      "              M       NaN   97.014925      NaN       NaN\n",
      "entertainment F       NaN   11.111111      NaN       NaN\n",
      "              M       NaN   88.888889      NaN       NaN\n",
      "executive     F       NaN    9.375000      NaN       NaN\n",
      "              M       NaN   90.625000      NaN       NaN\n",
      "healthcare    F       NaN   68.750000      NaN       NaN\n",
      "              M       NaN   31.250000      NaN       NaN\n",
      "homemaker     F       NaN   85.714286      NaN       NaN\n",
      "              M       NaN   14.285714      NaN       NaN\n",
      "lawyer        F       NaN   16.666667      NaN       NaN\n",
      "              M       NaN   83.333333      NaN       NaN\n",
      "librarian     F       NaN   56.862745      NaN       NaN\n",
      "              M       NaN   43.137255      NaN       NaN\n",
      "marketing     F       NaN   38.461538      NaN       NaN\n",
      "              M       NaN   61.538462      NaN       NaN\n",
      "none          F       NaN   44.444444      NaN       NaN\n",
      "              M       NaN   55.555556      NaN       NaN\n",
      "other         F       NaN   34.285714      NaN       NaN\n",
      "              M       NaN   65.714286      NaN       NaN\n",
      "programmer    F       NaN    9.090909      NaN       NaN\n",
      "              M       NaN   90.909091      NaN       NaN\n",
      "retired       F       NaN    7.142857      NaN       NaN\n",
      "              M       NaN   92.857143      NaN       NaN\n",
      "salesman      F       NaN   25.000000      NaN       NaN\n",
      "              M       NaN   75.000000      NaN       NaN\n",
      "scientist     F       NaN    9.677419      NaN       NaN\n",
      "              M       NaN   90.322581      NaN       NaN\n",
      "student       F       NaN   30.612245      NaN       NaN\n",
      "              M       NaN   69.387755      NaN       NaN\n",
      "technician    F       NaN    3.703704      NaN       NaN\n",
      "              M       NaN   96.296296      NaN       NaN\n",
      "writer        F       NaN   42.222222      NaN       NaN\n",
      "              M       NaN   57.777778      NaN       NaN\n"
     ]
    }
   ],
   "source": [
    "import pandas as pd\n",
    "\n",
    "users = pd.read_csv('https://raw.githubusercontent.com/justmarkham/DAT8/master/data/u.user', sep='|')\n",
    "\n",
    "mean_age_per_occupation = users.groupby('occupation')['age'].mean()\n",
    "\n",
    "male_ratio = users[users['gender'] == 'M'].groupby('occupation')['gender'].count() / users.groupby('occupation')['gender'].count()\n",
    "\n",
    "male_ratio = male_ratio.sort_values(ascending=False)\n",
    "\n",
    "min_max_age = users.groupby('occupation')['age'].agg([min, max])\n",
    "\n",
    "mean_age_per_occupation_sex = users.groupby(['occupation', 'gender'])['age'].mean()\n",
    "\n",
    "gender_count = users.groupby(['occupation', 'gender']).agg({'gender': 'count'})\n",
    "\n",
    "occupation_count = users.groupby(['occupation']).agg('count')\n",
    "\n",
    "gender_percentage = gender_count.div(occupation_count, level = \"occupation\") * 100\n",
    "\n",
    "print(\"Mean Age Per Occupation:\\n\", mean_age_per_occupation)\n",
    "print(\"\\nMale Ratio Per Occupation:\\n\", male_ratio)\n",
    "print(\"\\nMinimum and Maximum Ages Per Occupation:\\n\", min_max_age)\n",
    "print(\"\\nMean Age Per Occupation and Sex:\\n\", mean_age_per_occupation_sex)\n",
    "print(\"\\nPercentage of Women and Men Per Occupation:\\n\", gender_percentage)"
   ]
  },
  {
   "cell_type": "markdown",
   "id": "1674b989",
   "metadata": {},
   "source": [
    "# Question 2\n",
    "\n"
   ]
  },
  {
   "cell_type": "code",
   "execution_count": 3,
   "id": "1034505a",
   "metadata": {},
   "outputs": [
    {
     "data": {
      "text/html": [
       "<div>\n",
       "<style scoped>\n",
       "    .dataframe tbody tr th:only-of-type {\n",
       "        vertical-align: middle;\n",
       "    }\n",
       "\n",
       "    .dataframe tbody tr th {\n",
       "        vertical-align: top;\n",
       "    }\n",
       "\n",
       "    .dataframe thead th {\n",
       "        text-align: right;\n",
       "    }\n",
       "</style>\n",
       "<table border=\"1\" class=\"dataframe\">\n",
       "  <thead>\n",
       "    <tr style=\"text-align: right;\">\n",
       "      <th></th>\n",
       "      <th>Team</th>\n",
       "      <th>Goals</th>\n",
       "      <th>Shots on target</th>\n",
       "      <th>Shots off target</th>\n",
       "      <th>Shooting Accuracy</th>\n",
       "      <th>% Goals-to-shots</th>\n",
       "      <th>Total shots (inc. Blocked)</th>\n",
       "      <th>Hit Woodwork</th>\n",
       "      <th>Penalty goals</th>\n",
       "      <th>Penalties not scored</th>\n",
       "      <th>...</th>\n",
       "      <th>Saves made</th>\n",
       "      <th>Saves-to-shots ratio</th>\n",
       "      <th>Fouls Won</th>\n",
       "      <th>Fouls Conceded</th>\n",
       "      <th>Offsides</th>\n",
       "      <th>Yellow Cards</th>\n",
       "      <th>Red Cards</th>\n",
       "      <th>Subs on</th>\n",
       "      <th>Subs off</th>\n",
       "      <th>Players Used</th>\n",
       "    </tr>\n",
       "  </thead>\n",
       "  <tbody>\n",
       "    <tr>\n",
       "      <th>0</th>\n",
       "      <td>Croatia</td>\n",
       "      <td>4</td>\n",
       "      <td>13</td>\n",
       "      <td>12</td>\n",
       "      <td>51.9%</td>\n",
       "      <td>16.0%</td>\n",
       "      <td>32</td>\n",
       "      <td>0</td>\n",
       "      <td>0</td>\n",
       "      <td>0</td>\n",
       "      <td>...</td>\n",
       "      <td>13</td>\n",
       "      <td>81.3%</td>\n",
       "      <td>41</td>\n",
       "      <td>62</td>\n",
       "      <td>2</td>\n",
       "      <td>9</td>\n",
       "      <td>0</td>\n",
       "      <td>9</td>\n",
       "      <td>9</td>\n",
       "      <td>16</td>\n",
       "    </tr>\n",
       "    <tr>\n",
       "      <th>1</th>\n",
       "      <td>Czech Republic</td>\n",
       "      <td>4</td>\n",
       "      <td>13</td>\n",
       "      <td>18</td>\n",
       "      <td>41.9%</td>\n",
       "      <td>12.9%</td>\n",
       "      <td>39</td>\n",
       "      <td>0</td>\n",
       "      <td>0</td>\n",
       "      <td>0</td>\n",
       "      <td>...</td>\n",
       "      <td>9</td>\n",
       "      <td>60.1%</td>\n",
       "      <td>53</td>\n",
       "      <td>73</td>\n",
       "      <td>8</td>\n",
       "      <td>7</td>\n",
       "      <td>0</td>\n",
       "      <td>11</td>\n",
       "      <td>11</td>\n",
       "      <td>19</td>\n",
       "    </tr>\n",
       "    <tr>\n",
       "      <th>2</th>\n",
       "      <td>Denmark</td>\n",
       "      <td>4</td>\n",
       "      <td>10</td>\n",
       "      <td>10</td>\n",
       "      <td>50.0%</td>\n",
       "      <td>20.0%</td>\n",
       "      <td>27</td>\n",
       "      <td>1</td>\n",
       "      <td>0</td>\n",
       "      <td>0</td>\n",
       "      <td>...</td>\n",
       "      <td>10</td>\n",
       "      <td>66.7%</td>\n",
       "      <td>25</td>\n",
       "      <td>38</td>\n",
       "      <td>8</td>\n",
       "      <td>4</td>\n",
       "      <td>0</td>\n",
       "      <td>7</td>\n",
       "      <td>7</td>\n",
       "      <td>15</td>\n",
       "    </tr>\n",
       "    <tr>\n",
       "      <th>3</th>\n",
       "      <td>England</td>\n",
       "      <td>5</td>\n",
       "      <td>11</td>\n",
       "      <td>18</td>\n",
       "      <td>50.0%</td>\n",
       "      <td>17.2%</td>\n",
       "      <td>40</td>\n",
       "      <td>0</td>\n",
       "      <td>0</td>\n",
       "      <td>0</td>\n",
       "      <td>...</td>\n",
       "      <td>22</td>\n",
       "      <td>88.1%</td>\n",
       "      <td>43</td>\n",
       "      <td>45</td>\n",
       "      <td>6</td>\n",
       "      <td>5</td>\n",
       "      <td>0</td>\n",
       "      <td>11</td>\n",
       "      <td>11</td>\n",
       "      <td>16</td>\n",
       "    </tr>\n",
       "    <tr>\n",
       "      <th>4</th>\n",
       "      <td>France</td>\n",
       "      <td>3</td>\n",
       "      <td>22</td>\n",
       "      <td>24</td>\n",
       "      <td>37.9%</td>\n",
       "      <td>6.5%</td>\n",
       "      <td>65</td>\n",
       "      <td>1</td>\n",
       "      <td>0</td>\n",
       "      <td>0</td>\n",
       "      <td>...</td>\n",
       "      <td>6</td>\n",
       "      <td>54.6%</td>\n",
       "      <td>36</td>\n",
       "      <td>51</td>\n",
       "      <td>5</td>\n",
       "      <td>6</td>\n",
       "      <td>0</td>\n",
       "      <td>11</td>\n",
       "      <td>11</td>\n",
       "      <td>19</td>\n",
       "    </tr>\n",
       "  </tbody>\n",
       "</table>\n",
       "<p>5 rows × 35 columns</p>\n",
       "</div>"
      ],
      "text/plain": [
       "             Team  Goals  Shots on target  Shots off target Shooting Accuracy  \\\n",
       "0         Croatia      4               13                12             51.9%   \n",
       "1  Czech Republic      4               13                18             41.9%   \n",
       "2         Denmark      4               10                10             50.0%   \n",
       "3         England      5               11                18             50.0%   \n",
       "4          France      3               22                24             37.9%   \n",
       "\n",
       "  % Goals-to-shots  Total shots (inc. Blocked)  Hit Woodwork  Penalty goals  \\\n",
       "0            16.0%                          32             0              0   \n",
       "1            12.9%                          39             0              0   \n",
       "2            20.0%                          27             1              0   \n",
       "3            17.2%                          40             0              0   \n",
       "4             6.5%                          65             1              0   \n",
       "\n",
       "   Penalties not scored  ...  Saves made  Saves-to-shots ratio  Fouls Won  \\\n",
       "0                     0  ...          13                 81.3%         41   \n",
       "1                     0  ...           9                 60.1%         53   \n",
       "2                     0  ...          10                 66.7%         25   \n",
       "3                     0  ...          22                 88.1%         43   \n",
       "4                     0  ...           6                 54.6%         36   \n",
       "\n",
       "  Fouls Conceded  Offsides  Yellow Cards  Red Cards  Subs on  Subs off  \\\n",
       "0             62         2             9          0        9         9   \n",
       "1             73         8             7          0       11        11   \n",
       "2             38         8             4          0        7         7   \n",
       "3             45         6             5          0       11        11   \n",
       "4             51         5             6          0       11        11   \n",
       "\n",
       "   Players Used  \n",
       "0            16  \n",
       "1            19  \n",
       "2            15  \n",
       "3            16  \n",
       "4            19  \n",
       "\n",
       "[5 rows x 35 columns]"
      ]
     },
     "execution_count": 3,
     "metadata": {},
     "output_type": "execute_result"
    }
   ],
   "source": [
    "euro12 = pd.read_csv('https://raw.githubusercontent.com/guipsamora/pandas_exercises/master/02_Filtering_%26_Sorting/Euro12/Euro_2012_stats_TEAM.csv', sep=',')\n",
    "\n",
    "euro12.head()\n",
    "\n"
   ]
  },
  {
   "cell_type": "code",
   "execution_count": 5,
   "id": "4d03c986",
   "metadata": {},
   "outputs": [
    {
     "name": "stdout",
     "output_type": "stream",
     "text": [
      "Number of teams participated: 16\n",
      "Number of columns: 35\n",
      "\n",
      "Discipline DataFrame:\n",
      "              Team  Yellow Cards  Red Cards\n",
      "0         Croatia             9          0\n",
      "1  Czech Republic             7          0\n",
      "2         Denmark             4          0\n",
      "3         England             5          0\n",
      "4          France             6          0\n",
      "\n",
      "Sorted Discipline DataFrame:\n",
      "                    Team  Yellow Cards  Red Cards\n",
      "6                Greece             9          1\n",
      "9                Poland             7          1\n",
      "11  Republic of Ireland             6          1\n",
      "7                 Italy            16          0\n",
      "10             Portugal            12          0\n",
      "\n",
      "Mean Yellow Cards per Team:\n",
      " Team\n",
      "Croatia                 9.0\n",
      "Czech Republic          7.0\n",
      "Denmark                 4.0\n",
      "England                 5.0\n",
      "France                  6.0\n",
      "Germany                 4.0\n",
      "Greece                  9.0\n",
      "Italy                  16.0\n",
      "Netherlands             5.0\n",
      "Poland                  7.0\n",
      "Portugal               12.0\n",
      "Republic of Ireland     6.0\n",
      "Russia                  6.0\n",
      "Spain                  11.0\n",
      "Sweden                  7.0\n",
      "Ukraine                 5.0\n",
      "Name: Yellow Cards, dtype: float64\n",
      "\n",
      "Teams with more than 6 goals:\n",
      "        Team  Goals  Shots on target  Shots off target Shooting Accuracy  \\\n",
      "5   Germany     10               32                32             47.8%   \n",
      "13    Spain     12               42                33             55.9%   \n",
      "\n",
      "   % Goals-to-shots  Total shots (inc. Blocked)  Hit Woodwork  Penalty goals  \\\n",
      "5             15.6%                          80             2              1   \n",
      "13            16.0%                         100             0              1   \n",
      "\n",
      "    Penalties not scored  ...  Saves made  Saves-to-shots ratio  Fouls Won  \\\n",
      "5                      0  ...          10                 62.6%         63   \n",
      "13                     0  ...          15                 93.8%        102   \n",
      "\n",
      "   Fouls Conceded  Offsides  Yellow Cards  Red Cards  Subs on  Subs off  \\\n",
      "5              49        12             4          0       15        15   \n",
      "13             83        19            11          0       17        17   \n",
      "\n",
      "    Players Used  \n",
      "5             17  \n",
      "13            18  \n",
      "\n",
      "[2 rows x 35 columns]\n",
      "\n",
      "Teams starting with 'G':\n",
      "       Team  Goals  Shots on target  Shots off target Shooting Accuracy  \\\n",
      "5  Germany     10               32                32             47.8%   \n",
      "6   Greece      5                8                18             30.7%   \n",
      "\n",
      "  % Goals-to-shots  Total shots (inc. Blocked)  Hit Woodwork  Penalty goals  \\\n",
      "5            15.6%                          80             2              1   \n",
      "6            19.2%                          32             1              1   \n",
      "\n",
      "   Penalties not scored  ...  Saves made  Saves-to-shots ratio  Fouls Won  \\\n",
      "5                     0  ...          10                 62.6%         63   \n",
      "6                     1  ...          13                 65.1%         67   \n",
      "\n",
      "  Fouls Conceded  Offsides  Yellow Cards  Red Cards  Subs on  Subs off  \\\n",
      "5             49        12             4          0       15        15   \n",
      "6             48        12             9          1       12        12   \n",
      "\n",
      "   Players Used  \n",
      "5            17  \n",
      "6            20  \n",
      "\n",
      "[2 rows x 35 columns]\n",
      "\n",
      "First 7 columns:\n",
      "              Team  Goals  Shots on target  Shots off target Shooting Accuracy  \\\n",
      "0         Croatia      4               13                12             51.9%   \n",
      "1  Czech Republic      4               13                18             41.9%   \n",
      "2         Denmark      4               10                10             50.0%   \n",
      "3         England      5               11                18             50.0%   \n",
      "4          France      3               22                24             37.9%   \n",
      "\n",
      "  % Goals-to-shots  Total shots (inc. Blocked)  \n",
      "0            16.0%                          32  \n",
      "1            12.9%                          39  \n",
      "2            20.0%                          27  \n",
      "3            17.2%                          40  \n",
      "4             6.5%                          65  \n",
      "\n",
      "All but last 3 columns:\n",
      "              Team  Goals  Shots on target  Shots off target Shooting Accuracy  \\\n",
      "0         Croatia      4               13                12             51.9%   \n",
      "1  Czech Republic      4               13                18             41.9%   \n",
      "2         Denmark      4               10                10             50.0%   \n",
      "3         England      5               11                18             50.0%   \n",
      "4          France      3               22                24             37.9%   \n",
      "\n",
      "  % Goals-to-shots  Total shots (inc. Blocked)  Hit Woodwork  Penalty goals  \\\n",
      "0            16.0%                          32             0              0   \n",
      "1            12.9%                          39             0              0   \n",
      "2            20.0%                          27             1              0   \n",
      "3            17.2%                          40             0              0   \n",
      "4             6.5%                          65             1              0   \n",
      "\n",
      "   Penalties not scored  ...  Clean Sheets  Blocks  Goals conceded Saves made  \\\n",
      "0                     0  ...             0      10               3         13   \n",
      "1                     0  ...             1      10               6          9   \n",
      "2                     0  ...             1      10               5         10   \n",
      "3                     0  ...             2      29               3         22   \n",
      "4                     0  ...             1       7               5          6   \n",
      "\n",
      "   Saves-to-shots ratio  Fouls Won  Fouls Conceded  Offsides  Yellow Cards  \\\n",
      "0                 81.3%         41              62         2             9   \n",
      "1                 60.1%         53              73         8             7   \n",
      "2                 66.7%         25              38         8             4   \n",
      "3                 88.1%         43              45         6             5   \n",
      "4                 54.6%         36              51         5             6   \n",
      "\n",
      "   Red Cards  \n",
      "0          0  \n",
      "1          0  \n",
      "2          0  \n",
      "3          0  \n",
      "4          0  \n",
      "\n",
      "[5 rows x 32 columns]\n",
      "\n",
      "Shooting Accuracy from England, Italy, and Russia:\n",
      "        Team Shooting Accuracy\n",
      "3   England             50.0%\n",
      "7     Italy             43.0%\n",
      "12   Russia             22.5%\n"
     ]
    }
   ],
   "source": [
    "goals = euro12['Goals']\n",
    "\n",
    "teams_participated = euro12['Team'].nunique()\n",
    "\n",
    "num_columns = euro12.shape[1]\n",
    "\n",
    "discipline = euro12[['Team', 'Yellow Cards', 'Red Cards']]\n",
    "\n",
    "discipline_sorted = discipline.sort_values(by=['Red Cards', 'Yellow Cards'], ascending=False)\n",
    "\n",
    "mean_yellow_cards = discipline.groupby('Team')['Yellow Cards'].mean()\n",
    "\n",
    "teams_more_than_6_goals = euro12[euro12['Goals'] > 6]\n",
    "\n",
    "teams_start_with_G = euro12[euro12['Team'].str.startswith('G')]\n",
    "\n",
    "first_7_columns = euro12.iloc[:, :7]\n",
    "\n",
    "all_but_last_3 = euro12.iloc[:, :-3]\n",
    "\n",
    "shooting_accuracy = euro12[euro12['Team'].isin(['England', 'Italy', 'Russia'])][['Team', 'Shooting Accuracy']]\n",
    "\n",
    "print(\"Number of teams participated:\", teams_participated)\n",
    "print(\"Number of columns:\", num_columns)\n",
    "print(\"\\nDiscipline DataFrame:\\n\", discipline.head())\n",
    "print(\"\\nSorted Discipline DataFrame:\\n\", discipline_sorted.head())\n",
    "print(\"\\nMean Yellow Cards per Team:\\n\", mean_yellow_cards)\n",
    "print(\"\\nTeams with more than 6 goals:\\n\", teams_more_than_6_goals)\n",
    "print(\"\\nTeams starting with 'G':\\n\", teams_start_with_G)\n",
    "print(\"\\nFirst 7 columns:\\n\", first_7_columns.head())\n",
    "print(\"\\nAll but last 3 columns:\\n\", all_but_last_3.head())\n",
    "print(\"\\nShooting Accuracy from England, Italy, and Russia:\\n\", shooting_accuracy)\n"
   ]
  },
  {
   "cell_type": "markdown",
   "id": "f02bfc5c",
   "metadata": {},
   "source": [
    " # Question 3\n",
    " \n"
   ]
  },
  {
   "cell_type": "code",
   "execution_count": 6,
   "id": "447adb58",
   "metadata": {},
   "outputs": [
    {
     "data": {
      "text/plain": [
       "\"# Yes, it's true because each Series has 100 elements, so when concatenated, the index will go from 0 to 99.\""
      ]
     },
     "execution_count": 6,
     "metadata": {},
     "output_type": "execute_result"
    }
   ],
   "source": [
    "import numpy as np\n",
    "\n",
    "first_series = pd.Series(np.random.randint(1, 5, size=100))\n",
    "second_series = pd.Series(np.random.randint(1, 4, size=100))\n",
    "third_series = pd.Series(np.random.randint(10000, 30001, size=100))\n",
    "\n",
    "df = pd.concat([first_series, second_series, third_series], axis=1)\n",
    "\n",
    "df.columns = ['bedrs', 'bathrs', 'price_sqr_meter']\n",
    "\n",
    "bigcolumn = pd.concat([first_series, second_series, third_series], axis=0)\n",
    "bigcolumn = bigcolumn.to_frame()\n",
    "\n",
    "\"\"\"# Yes, it's true because each Series has 100 elements, so when concatenated, the index will go from 0 to 99.\"\"\"\n",
    "\n"
   ]
  },
  {
   "cell_type": "code",
   "execution_count": 8,
   "id": "4dd5876f",
   "metadata": {},
   "outputs": [
    {
     "name": "stdout",
     "output_type": "stream",
     "text": [
      "         0\n",
      "0        4\n",
      "1        3\n",
      "2        1\n",
      "3        1\n",
      "4        2\n",
      "..     ...\n",
      "295  15661\n",
      "296  17599\n",
      "297  16552\n",
      "298  17726\n",
      "299  14103\n",
      "\n",
      "[300 rows x 1 columns]\n"
     ]
    }
   ],
   "source": [
    "bigcolumn.reset_index(drop=True, inplace=True)\n",
    "bigcolumn.index = range(300)\n",
    "\n",
    "print(bigcolumn)"
   ]
  },
  {
   "cell_type": "markdown",
   "id": "36906fa6",
   "metadata": {},
   "source": [
    "# Question 4"
   ]
  },
  {
   "cell_type": "code",
   "execution_count": 9,
   "id": "5236e615",
   "metadata": {},
   "outputs": [
    {
     "name": "stderr",
     "output_type": "stream",
     "text": [
      "C:\\Users\\mbane\\AppData\\Local\\Temp\\ipykernel_29652\\187210493.py:6: UserWarning: Could not infer format, so each element will be parsed individually, falling back to `dateutil`. To ensure parsing is consistent and as-expected, please specify a format.\n",
      "  data = pd.read_csv(data_path, sep='\\s+', parse_dates=[[0,1,2]])\n"
     ]
    }
   ],
   "source": [
    "from datetime import datetime\n",
    "\n",
    "\n",
    "data_path = \"C:/Users/mbane/Downloads/wind.txt\"\n",
    "\n",
    "data = pd.read_csv(data_path, sep='\\s+', parse_dates=[[0,1,2]])\n",
    "\n"
   ]
  },
  {
   "cell_type": "code",
   "execution_count": 10,
   "id": "e2a402a9",
   "metadata": {},
   "outputs": [
    {
     "name": "stdout",
     "output_type": "stream",
     "text": [
      "Missing values per location:\n",
      " Yr_Mo_Dy    0\n",
      "RPT         6\n",
      "VAL         3\n",
      "ROS         2\n",
      "KIL         5\n",
      "SHA         2\n",
      "BIR         0\n",
      "DUB         3\n",
      "CLA         2\n",
      "MUL         3\n",
      "CLO         1\n",
      "BEL         0\n",
      "MAL         4\n",
      "dtype: int64\n",
      "\n",
      "Total non-missing values: 85431\n",
      "\n",
      "Mean windspeeds over all locations and all times: Yr_Mo_Dy    2042-03-23 06:48:57.389716992\n",
      "RPT                             12.362987\n",
      "VAL                             10.644314\n",
      "ROS                             11.660526\n",
      "KIL                              6.306468\n",
      "SHA                             10.455834\n",
      "BIR                              7.092254\n",
      "DUB                              9.797343\n",
      "CLA                              8.495053\n",
      "MUL                               8.49359\n",
      "CLO                              8.707332\n",
      "BEL                             13.121007\n",
      "MAL                             15.599079\n",
      "dtype: object\n",
      "\n",
      "Location statistics:\n",
      "                            Yr_Mo_Dy        RPT        VAL        ROS  \\\n",
      "min             1974-01-01 00:00:00   0.670000   0.210000   1.500000   \n",
      "max             2073-12-31 00:00:00  35.800000  33.370000  33.840000   \n",
      "mean  2042-03-23 06:48:57.389716992  12.362987  10.644314  11.660526   \n",
      "std   14936 days 08:22:10.054896896   5.618413   5.267356   5.008450   \n",
      "\n",
      "            KIL        SHA        BIR        DUB        CLA        MUL  \\\n",
      "min    0.000000   0.130000   0.000000   0.000000   0.000000   0.000000   \n",
      "max   28.460000  37.540000  26.160000  30.370000  31.080000  25.880000   \n",
      "mean   6.306468  10.455834   7.092254   9.797343   8.495053   8.493590   \n",
      "std    3.605811   4.936125   3.968683   4.977555   4.499449   4.166872   \n",
      "\n",
      "            CLO        BEL        MAL  \n",
      "min    0.040000   0.130000   0.670000  \n",
      "max   28.210000  42.380000  42.540000  \n",
      "mean   8.707332  13.121007  15.599079  \n",
      "std    4.503954   5.835037   6.699794  \n",
      "\n",
      "Daily statistics:\n",
      "     min    max       mean       std\n",
      "0  9.29  18.50  13.018182  2.808875\n",
      "1  6.50  17.54  11.336364  3.188994\n",
      "2  6.17  18.50  11.641818  3.681912\n",
      "3  1.79  11.75   6.619167  3.198126\n",
      "4  6.17  13.33  10.630000  2.445356\n",
      "\n",
      "January average windspeeds:\n",
      " RPT    14.847325\n",
      "VAL    12.914560\n",
      "ROS    13.299624\n",
      "KIL     7.199498\n",
      "SHA    11.667734\n",
      "BIR     8.054839\n",
      "DUB    11.819355\n",
      "CLA     9.512047\n",
      "MUL     9.543208\n",
      "CLO    10.053566\n",
      "BEL    14.550520\n",
      "MAL    18.028763\n",
      "dtype: float64\n",
      "\n",
      "Yearly frequency:\n",
      "                   RPT        VAL        ROS       KIL        SHA       BIR  \\\n",
      "Yr_Mo_Dy                                                                     \n",
      "1974-12-31  13.643096  11.811781  12.336356  6.427041  11.110986  6.809781   \n",
      "1975-12-31  12.008575  10.293836  11.564712  5.269096   9.190082  5.668521   \n",
      "1976-12-31  11.737842  10.203115  10.761230  5.109426   8.846339  6.311038   \n",
      "1977-12-31  13.099616  11.144493  12.627836  6.073945  10.003836  8.586438   \n",
      "1978-12-31  12.504356  11.044274  11.380000  6.082356  10.167233  7.650658   \n",
      "\n",
      "                  DUB       CLA       MUL       CLO        BEL        MAL  \n",
      "Yr_Mo_Dy                                                                   \n",
      "1974-12-31  10.084603  9.896986  9.331753  8.736356  13.252959  16.947671  \n",
      "1975-12-31   8.562603  7.843836  8.797945  7.382822  12.631671  15.307863  \n",
      "1976-12-31   9.149126  7.146202  8.883716  7.883087  12.332377  15.471448  \n",
      "1977-12-31  11.523205  8.378384  9.098192  8.821616  13.459068  16.590849  \n",
      "1978-12-31   9.489342  8.800466  9.089753  8.301699  12.967397  16.771370  \n",
      "\n",
      "Monthly frequency:\n",
      "                   RPT        VAL        ROS        KIL        SHA        BIR  \\\n",
      "Yr_Mo_Dy                                                                       \n",
      "1974-01-31  20.990968  17.623548  17.514839  10.549355  15.858387  11.298387   \n",
      "1974-02-28  13.576071  12.451786  11.263571   6.103929  10.590357   6.516429   \n",
      "1974-03-31  11.156129  10.725484  12.019355   5.743226   9.576452   5.892903   \n",
      "1974-04-30   9.481000   6.919667  12.099333   4.061000   7.659000   4.046333   \n",
      "1974-05-31  13.381290  11.769677  12.355484   6.656452  10.874194   6.481290   \n",
      "\n",
      "                  DUB        CLA        MUL        CLO        BEL        MAL  \n",
      "Yr_Mo_Dy                                                                      \n",
      "1974-01-31  14.112258  12.786452  14.691935  15.092903  19.929677  24.573226  \n",
      "1974-02-28   9.818929   8.578929   9.212857   9.045000  12.172143  16.891786  \n",
      "1974-03-31   8.520000   9.039032   8.339032   7.626774  11.234516  15.141613  \n",
      "1974-04-30   5.438667   7.609333   6.058667   5.024000   7.983333   9.898000  \n",
      "1974-05-31   9.680645  10.810645   8.830323   9.624516  13.319032  16.006774  \n",
      "\n",
      "Weekly frequency:\n",
      "                   RPT        VAL        ROS        KIL        SHA        BIR  \\\n",
      "Yr_Mo_Dy                                                                       \n",
      "1974-01-06  23.655000  16.278333  20.560000  12.075000  15.348333  12.673333   \n",
      "1974-01-13  21.450000  19.514286  17.290000  11.137143  17.608571  11.971429   \n",
      "1974-01-20  21.335714  19.190000  16.964286   9.992857  17.074286  11.382857   \n",
      "1974-01-27  17.612857  15.737143  14.915714   8.802857  13.285714   9.658571   \n",
      "1974-02-03  20.007143  16.865714  17.445714  10.608571  15.530000  10.611429   \n",
      "\n",
      "                  DUB        CLA        MUL        CLO        BEL        MAL  \n",
      "Yr_Mo_Dy                                                                      \n",
      "1974-01-06  12.596667  12.833333  16.118333  17.248333  18.036667  24.450000  \n",
      "1974-01-13  14.857143  13.392857  14.938571  15.547143  22.870000  25.210000  \n",
      "1974-01-20  15.731429  13.565714  14.878571  14.397143  21.941429  26.510000  \n",
      "1974-01-27  12.470000  11.328571  12.655714  12.832857  16.857143  20.892857  \n",
      "1974-02-03  14.541429  12.344286  14.465714  14.528571  17.280000  23.570000  \n",
      "\n",
      "Weekly stats for the first year:\n",
      " Empty DataFrame\n",
      "Columns: [(RPT, min), (RPT, max), (RPT, mean), (RPT, std), (VAL, min), (VAL, max), (VAL, mean), (VAL, std), (ROS, min), (ROS, max), (ROS, mean), (ROS, std), (KIL, min), (KIL, max), (KIL, mean), (KIL, std), (SHA, min), (SHA, max), (SHA, mean), (SHA, std), (BIR, min), (BIR, max), (BIR, mean), (BIR, std), (DUB, min), (DUB, max), (DUB, mean), (DUB, std), (CLA, min), (CLA, max), (CLA, mean), (CLA, std), (MUL, min), (MUL, max), (MUL, mean), (MUL, std), (CLO, min), (CLO, max), (CLO, mean), (CLO, std), (BEL, min), (BEL, max), (BEL, mean), (BEL, std), (MAL, min), (MAL, max), (MAL, mean), (MAL, std)]\n",
      "Index: []\n",
      "\n",
      "[0 rows x 48 columns]\n"
     ]
    }
   ],
   "source": [
    "data['Yr_Mo_Dy'] = data['Yr_Mo_Dy'].astype('datetime64[ns]')\n",
    "\n",
    "missing_values = data.isnull().sum()\n",
    "\n",
    "non_missing_values = data.notnull().sum().sum()\n",
    "\n",
    "mean_windspeeds = data.mean()\n",
    "\n",
    "loc_stats = data.agg(['min', 'max', 'mean', 'std'])\n",
    "\n",
    "# Exclude columns with datetime data type\n",
    "numeric_data = data.select_dtypes(include=[np.number])\n",
    "\n",
    "# Now apply the aggregation functions\n",
    "day_stats = numeric_data.agg(['min', 'max', 'mean', 'std'], axis=1)\n",
    "\n",
    "data['Yr_Mo_Dy'] = pd.to_datetime(data['Yr_Mo_Dy'])\n",
    "data.set_index('Yr_Mo_Dy', inplace=True)\n",
    "january_winds = data[data.index.month == 1].mean()\n",
    "\n",
    "yearly_freq = data.resample('A').mean()\n",
    "\n",
    "monthly_freq = data.resample('M').mean()\n",
    "\n",
    "weekly_freq = data.resample('W').mean()\n",
    "\n",
    "first_year = data[data.index.year == 1961]\n",
    "weekly_stats_first_year = first_year.resample('W').agg(['min', 'max', 'mean', 'std']).iloc[1:53]\n",
    "\n",
    "print(\"Missing values per location:\\n\", missing_values)\n",
    "print(\"\\nTotal non-missing values:\", non_missing_values)\n",
    "print(\"\\nMean windspeeds over all locations and all times:\", mean_windspeeds)\n",
    "print(\"\\nLocation statistics:\\n\", loc_stats)\n",
    "print(\"\\nDaily statistics:\\n\", day_stats.head())\n",
    "print(\"\\nJanuary average windspeeds:\\n\", january_winds)\n",
    "print(\"\\nYearly frequency:\\n\", yearly_freq.head())\n",
    "print(\"\\nMonthly frequency:\\n\", monthly_freq.head())\n",
    "print(\"\\nWeekly frequency:\\n\", weekly_freq.head())\n",
    "print(\"\\nWeekly stats for the first year:\\n\", weekly_stats_first_year.head())\n"
   ]
  },
  {
   "cell_type": "markdown",
   "id": "eea08f50",
   "metadata": {},
   "source": [
    "# Question 5"
   ]
  },
  {
   "cell_type": "code",
   "execution_count": 24,
   "id": "687bba1d",
   "metadata": {},
   "outputs": [
    {
     "name": "stdout",
     "output_type": "stream",
     "text": [
      "   order_id  quantity                              item_name  \\\n",
      "0         1         1           Chips and Fresh Tomato Salsa   \n",
      "1         1         1                                   Izze   \n",
      "2         1         1                       Nantucket Nectar   \n",
      "3         1         1  Chips and Tomatillo-Green Chili Salsa   \n",
      "4         2         2                           Chicken Bowl   \n",
      "5         3         1                           Chicken Bowl   \n",
      "6         3         1                          Side of Chips   \n",
      "7         4         1                          Steak Burrito   \n",
      "8         4         1                       Steak Soft Tacos   \n",
      "9         5         1                          Steak Burrito   \n",
      "\n",
      "                                  choice_description item_price  \n",
      "0                                                NaN     $2.39   \n",
      "1                                       [Clementine]     $3.39   \n",
      "2                                            [Apple]     $3.39   \n",
      "3                                                NaN     $2.39   \n",
      "4  [Tomatillo-Red Chili Salsa (Hot), [Black Beans...    $16.98   \n",
      "5  [Fresh Tomato Salsa (Mild), [Rice, Cheese, Sou...    $10.98   \n",
      "6                                                NaN     $1.69   \n",
      "7  [Tomatillo Red Chili Salsa, [Fajita Vegetables...    $11.75   \n",
      "8  [Tomatillo Green Chili Salsa, [Pinto Beans, Ch...     $9.25   \n",
      "9  [Fresh Tomato Salsa, [Rice, Black Beans, Pinto...     $9.25   \n"
     ]
    }
   ],
   "source": [
    "import pandas as pd\n",
    "\n",
    "chipo = pd.read_csv('https://raw.githubusercontent.com/justmarkham/DAT8/master/data/chipotle.tsv', sep='\\t')\n",
    "\n",
    "print(chipo.head(10))"
   ]
  },
  {
   "cell_type": "code",
   "execution_count": 11,
   "id": "84a5ae19",
   "metadata": {},
   "outputs": [
    {
     "ename": "NameError",
     "evalue": "name 'chipo' is not defined",
     "output_type": "error",
     "traceback": [
      "\u001b[1;31m---------------------------------------------------------------------------\u001b[0m",
      "\u001b[1;31mNameError\u001b[0m                                 Traceback (most recent call last)",
      "Cell \u001b[1;32mIn[11], line 1\u001b[0m\n\u001b[1;32m----> 1\u001b[0m num_observations \u001b[38;5;241m=\u001b[39m chipo\u001b[38;5;241m.\u001b[39mshape[\u001b[38;5;241m0\u001b[39m]\n\u001b[0;32m      2\u001b[0m \u001b[38;5;28mprint\u001b[39m(\u001b[38;5;124m\"\u001b[39m\u001b[38;5;124mNumber of observations:\u001b[39m\u001b[38;5;124m\"\u001b[39m, num_observations)\n",
      "\u001b[1;31mNameError\u001b[0m: name 'chipo' is not defined"
     ]
    }
   ],
   "source": [
    "num_observations = chipo.shape[0]\n",
    "print(\"Number of observations:\", num_observations)"
   ]
  },
  {
   "cell_type": "code",
   "execution_count": 26,
   "id": "40723c5a",
   "metadata": {},
   "outputs": [
    {
     "name": "stdout",
     "output_type": "stream",
     "text": [
      "Number of columns: 5\n"
     ]
    }
   ],
   "source": [
    "num_columns = chipo.shape[1]\n",
    "print(\"Number of columns:\", num_columns)"
   ]
  },
  {
   "cell_type": "code",
   "execution_count": 27,
   "id": "eab0299e",
   "metadata": {},
   "outputs": [
    {
     "name": "stdout",
     "output_type": "stream",
     "text": [
      "Column names: ['order_id', 'quantity', 'item_name', 'choice_description', 'item_price']\n"
     ]
    }
   ],
   "source": [
    "print(\"Column names:\", chipo.columns.tolist())"
   ]
  },
  {
   "cell_type": "code",
   "execution_count": 28,
   "id": "c0eb9313",
   "metadata": {},
   "outputs": [
    {
     "name": "stdout",
     "output_type": "stream",
     "text": [
      "Dataset index: RangeIndex(start=0, stop=4622, step=1)\n"
     ]
    }
   ],
   "source": [
    "print(\"Dataset index:\", chipo.index)"
   ]
  },
  {
   "cell_type": "code",
   "execution_count": 29,
   "id": "65fd492b",
   "metadata": {},
   "outputs": [
    {
     "name": "stdout",
     "output_type": "stream",
     "text": [
      "Most ordered item: Chicken Bowl\n"
     ]
    }
   ],
   "source": [
    "most_ordered_item = chipo['item_name'].value_counts().idxmax()\n",
    "print(\"Most ordered item:\", most_ordered_item)"
   ]
  },
  {
   "cell_type": "code",
   "execution_count": 30,
   "id": "ff8b8d0c",
   "metadata": {},
   "outputs": [
    {
     "name": "stdout",
     "output_type": "stream",
     "text": [
      "Number of times the most ordered item was ordered: 726\n"
     ]
    }
   ],
   "source": [
    "most_ordered_count = chipo['item_name'].value_counts().max()\n",
    "print(\"Number of times the most ordered item was ordered:\", most_ordered_count)"
   ]
  },
  {
   "cell_type": "code",
   "execution_count": 31,
   "id": "a7fc00a6",
   "metadata": {},
   "outputs": [
    {
     "name": "stdout",
     "output_type": "stream",
     "text": [
      "Most ordered item in choice_description: [Diet Coke]\n"
     ]
    }
   ],
   "source": [
    "most_ordered_choice = chipo['choice_description'].value_counts().idxmax()\n",
    "print(\"Most ordered item in choice_description:\", most_ordered_choice)"
   ]
  },
  {
   "cell_type": "code",
   "execution_count": 32,
   "id": "c7aa887a",
   "metadata": {},
   "outputs": [
    {
     "name": "stdout",
     "output_type": "stream",
     "text": [
      "Total items ordered: 4972\n"
     ]
    }
   ],
   "source": [
    "total_items_ordered = chipo['quantity'].sum()\n",
    "print(\"Total items ordered:\", total_items_ordered)"
   ]
  },
  {
   "cell_type": "code",
   "execution_count": 33,
   "id": "2a7abd08",
   "metadata": {},
   "outputs": [
    {
     "name": "stdout",
     "output_type": "stream",
     "text": [
      "Item price type after conversion: float64\n"
     ]
    }
   ],
   "source": [
    "chipo['item_price'] = chipo['item_price'].replace('[\\$,]', '', regex=True).astype(float)\n",
    "print(\"Item price type after conversion:\", chipo['item_price'].dtype)"
   ]
  },
  {
   "cell_type": "code",
   "execution_count": 34,
   "id": "ba025562",
   "metadata": {},
   "outputs": [
    {
     "name": "stdout",
     "output_type": "stream",
     "text": [
      "Total revenue: 39237.02\n"
     ]
    }
   ],
   "source": [
    "revenue = (chipo['quantity'] * chipo['item_price']).sum()\n",
    "print(\"Total revenue:\", revenue)"
   ]
  },
  {
   "cell_type": "code",
   "execution_count": 35,
   "id": "8f7e0680",
   "metadata": {},
   "outputs": [
    {
     "name": "stdout",
     "output_type": "stream",
     "text": [
      "Total orders: 1834\n"
     ]
    }
   ],
   "source": [
    "total_orders = chipo['order_id'].nunique()\n",
    "print(\"Total orders:\", total_orders)"
   ]
  },
  {
   "cell_type": "code",
   "execution_count": 36,
   "id": "d94ef115",
   "metadata": {},
   "outputs": [
    {
     "name": "stdout",
     "output_type": "stream",
     "text": [
      "Average revenue per order: 21.39423118865867\n"
     ]
    }
   ],
   "source": [
    "average_revenue = revenue / total_orders\n",
    "print(\"Average revenue per order:\", average_revenue)"
   ]
  },
  {
   "cell_type": "code",
   "execution_count": 37,
   "id": "e8712d81",
   "metadata": {},
   "outputs": [
    {
     "name": "stdout",
     "output_type": "stream",
     "text": [
      "Number of different items sold: 50\n"
     ]
    }
   ],
   "source": [
    "unique_items = chipo['item_name'].nunique()\n",
    "print(\"Number of different items sold:\", unique_items)"
   ]
  },
  {
   "cell_type": "markdown",
   "id": "69036c13",
   "metadata": {},
   "source": [
    "# Question 6"
   ]
  },
  {
   "cell_type": "code",
   "execution_count": 12,
   "id": "7efdf12c",
   "metadata": {},
   "outputs": [
    {
     "data": {
      "text/html": [
       "<div>\n",
       "<style scoped>\n",
       "    .dataframe tbody tr th:only-of-type {\n",
       "        vertical-align: middle;\n",
       "    }\n",
       "\n",
       "    .dataframe tbody tr th {\n",
       "        vertical-align: top;\n",
       "    }\n",
       "\n",
       "    .dataframe thead th {\n",
       "        text-align: right;\n",
       "    }\n",
       "</style>\n",
       "<table border=\"1\" class=\"dataframe\">\n",
       "  <thead>\n",
       "    <tr style=\"text-align: right;\">\n",
       "      <th></th>\n",
       "      <th>Year</th>\n",
       "      <th>Marriages</th>\n",
       "      <th>Divorces</th>\n",
       "      <th>Population</th>\n",
       "      <th>Marriages_per_1000</th>\n",
       "      <th>Divorces_per_1000</th>\n",
       "    </tr>\n",
       "  </thead>\n",
       "  <tbody>\n",
       "    <tr>\n",
       "      <th>0</th>\n",
       "      <td>1867</td>\n",
       "      <td>357000.0</td>\n",
       "      <td>10000.0</td>\n",
       "      <td>36970000</td>\n",
       "      <td>9.7</td>\n",
       "      <td>0.3</td>\n",
       "    </tr>\n",
       "    <tr>\n",
       "      <th>1</th>\n",
       "      <td>1868</td>\n",
       "      <td>345000.0</td>\n",
       "      <td>10000.0</td>\n",
       "      <td>37885000</td>\n",
       "      <td>9.1</td>\n",
       "      <td>0.3</td>\n",
       "    </tr>\n",
       "    <tr>\n",
       "      <th>2</th>\n",
       "      <td>1869</td>\n",
       "      <td>348000.0</td>\n",
       "      <td>11000.0</td>\n",
       "      <td>38870000</td>\n",
       "      <td>9.0</td>\n",
       "      <td>0.3</td>\n",
       "    </tr>\n",
       "    <tr>\n",
       "      <th>3</th>\n",
       "      <td>1870</td>\n",
       "      <td>352000.0</td>\n",
       "      <td>11000.0</td>\n",
       "      <td>39905000</td>\n",
       "      <td>8.8</td>\n",
       "      <td>0.3</td>\n",
       "    </tr>\n",
       "    <tr>\n",
       "      <th>4</th>\n",
       "      <td>1871</td>\n",
       "      <td>359000.0</td>\n",
       "      <td>12000.0</td>\n",
       "      <td>41010000</td>\n",
       "      <td>8.8</td>\n",
       "      <td>0.3</td>\n",
       "    </tr>\n",
       "  </tbody>\n",
       "</table>\n",
       "</div>"
      ],
      "text/plain": [
       "   Year  Marriages  Divorces  Population  Marriages_per_1000  \\\n",
       "0  1867   357000.0   10000.0    36970000                 9.7   \n",
       "1  1868   345000.0   10000.0    37885000                 9.1   \n",
       "2  1869   348000.0   11000.0    38870000                 9.0   \n",
       "3  1870   352000.0   11000.0    39905000                 8.8   \n",
       "4  1871   359000.0   12000.0    41010000                 8.8   \n",
       "\n",
       "   Divorces_per_1000  \n",
       "0                0.3  \n",
       "1                0.3  \n",
       "2                0.3  \n",
       "3                0.3  \n",
       "4                0.3  "
      ]
     },
     "execution_count": 12,
     "metadata": {},
     "output_type": "execute_result"
    }
   ],
   "source": [
    "import matplotlib.pyplot as plt\n",
    "import pandas as pd\n",
    "\n",
    "datapath = \"C:/Users/mbane/Downloads/us-marriages-divorces-1867-2014.csv\"\n",
    "\n",
    "data = pd.read_csv(datapath)\n",
    "data.head()"
   ]
  },
  {
   "cell_type": "code",
   "execution_count": 15,
   "id": "eb863d9d",
   "metadata": {},
   "outputs": [
    {
     "data": {
      "image/png": "[encoded data removed]",
      "text/plain": [
       "<Figure size 1000x500 with 1 Axes>"
      ]
     },
     "metadata": {},
     "output_type": "display_data"
    }
   ],
   "source": [
    "# Plotting the data\n",
    "plt.figure(figsize=(10, 5))\n",
    "plt.plot(data['Year'], data['Marriages_per_1000'], label='Marriages per Capita')\n",
    "plt.plot(data['Year'], data['Divorces_per_1000'], label='Divorces per Capita')\n",
    "plt.xlabel('Year')\n",
    "plt.ylabel('Number per Capita')\n",
    "plt.title('Marriages and Divorces per Capita in the U.S. (1867 - 2014)')\n",
    "plt.legend()\n",
    "plt.show()"
   ]
  },
  {
   "cell_type": "markdown",
   "id": "5154c017",
   "metadata": {},
   "source": [
    "# Question 7"
   ]
  },
  {
   "cell_type": "code",
   "execution_count": 14,
   "id": "298ce800",
   "metadata": {},
   "outputs": [
    {
     "data": {
      "image/png": "[encoded data removed]",
      "text/plain": [
       "<Figure size 1000x500 with 1 Axes>"
      ]
     },
     "metadata": {},
     "output_type": "display_data"
    }
   ],
   "source": [
    "datapath = \"C:/Users/mbane/Downloads/us-marriages-divorces-1867-2014.csv\"\n",
    "\n",
    "data = pd.read_csv(datapath)\n",
    "\n",
    "# Filter the dataset for the years 1900, 1950, and 2000\n",
    "selected_years = [1900, 1950, 2000]\n",
    "data_filtered = data[data['Year'].isin(selected_years)]\n",
    "\n",
    "plt.figure(figsize=(10, 5))\n",
    "plt.bar(data_filtered['Year'] - 10, data_filtered['Marriages_per_1000'], width=20, label='Marriages', align='center')\n",
    "plt.bar(data_filtered['Year'] + 10, data_filtered['Divorces_per_1000'], width=20, label='Divorces', align='center')\n",
    "\n",
    "plt.xlabel('Year')\n",
    "plt.ylabel('Number per Capita')\n",
    "plt.title('Marriages and Divorces per Capita in the U.S.')\n",
    "plt.xticks(selected_years)\n",
    "plt.legend()\n",
    "plt.show()"
   ]
  },
  {
   "cell_type": "markdown",
   "id": "d1290113",
   "metadata": {},
   "source": [
    "# Question 8"
   ]
  },
  {
   "cell_type": "code",
   "execution_count": 17,
   "id": "5566c39c",
   "metadata": {},
   "outputs": [
    {
     "data": {
      "text/html": [
       "<div>\n",
       "<style scoped>\n",
       "    .dataframe tbody tr th:only-of-type {\n",
       "        vertical-align: middle;\n",
       "    }\n",
       "\n",
       "    .dataframe tbody tr th {\n",
       "        vertical-align: top;\n",
       "    }\n",
       "\n",
       "    .dataframe thead th {\n",
       "        text-align: right;\n",
       "    }\n",
       "</style>\n",
       "<table border=\"1\" class=\"dataframe\">\n",
       "  <thead>\n",
       "    <tr style=\"text-align: right;\">\n",
       "      <th></th>\n",
       "      <th>Actor</th>\n",
       "      <th>Count</th>\n",
       "    </tr>\n",
       "  </thead>\n",
       "  <tbody>\n",
       "    <tr>\n",
       "      <th>0</th>\n",
       "      <td>Arnold Schwarzenegger</td>\n",
       "      <td>369</td>\n",
       "    </tr>\n",
       "    <tr>\n",
       "      <th>1</th>\n",
       "      <td>Chow Yun-Fat</td>\n",
       "      <td>295</td>\n",
       "    </tr>\n",
       "    <tr>\n",
       "      <th>2</th>\n",
       "      <td>Clint Eastwood</td>\n",
       "      <td>207</td>\n",
       "    </tr>\n",
       "    <tr>\n",
       "      <th>3</th>\n",
       "      <td>Clive Owen</td>\n",
       "      <td>194</td>\n",
       "    </tr>\n",
       "    <tr>\n",
       "      <th>4</th>\n",
       "      <td>Dolph Lundgren</td>\n",
       "      <td>239</td>\n",
       "    </tr>\n",
       "  </tbody>\n",
       "</table>\n",
       "</div>"
      ],
      "text/plain": [
       "                   Actor  Count\n",
       "0  Arnold Schwarzenegger    369\n",
       "1           Chow Yun-Fat    295\n",
       "2         Clint Eastwood    207\n",
       "3             Clive Owen    194\n",
       "4         Dolph Lundgren    239"
      ]
     },
     "execution_count": 17,
     "metadata": {},
     "output_type": "execute_result"
    }
   ],
   "source": [
    "import matplotlib.pyplot as plt\n",
    "import pandas as pd\n",
    "\n",
    "datapath2 = \"C:/Users/mbane/Downloads/actor_kill_counts.csv\"\n",
    "\n",
    "actors = pd.read_csv(datapath2)\n",
    "\n",
    "actors.head()"
   ]
  },
  {
   "cell_type": "code",
   "execution_count": 19,
   "id": "da8c623f",
   "metadata": {},
   "outputs": [
    {
     "data": {
      "image/png": "[encoded data removed]",
      "text/plain": [
       "<Figure size 1000x800 with 1 Axes>"
      ]
     },
     "metadata": {},
     "output_type": "display_data"
    }
   ],
   "source": [
    "actors_sorted = actors.sort_values('Count', ascending=True)\n",
    "\n",
    "plt.figure(figsize=(10, 8))\n",
    "plt.barh(actors_sorted['Actor'], actors_sorted['Count'], color='skyblue')\n",
    "plt.xlabel('Kill Count')\n",
    "plt.ylabel('Actor')\n",
    "plt.title('The Deadliest Actors in Hollywood')\n",
    "plt.grid(axis='x')\n",
    "\n",
    "\n",
    "for index, value in enumerate(actors_sorted['Count']):\n",
    "    plt.text(value, index, str(value))\n",
    "\n",
    "plt.show()"
   ]
  },
  {
   "cell_type": "markdown",
   "id": "5e61f97f",
   "metadata": {},
   "source": [
    "# Question 9"
   ]
  },
  {
   "cell_type": "code",
   "execution_count": 20,
   "id": "d96d6288",
   "metadata": {},
   "outputs": [
    {
     "data": {
      "image/png": "[encoded data removed]",
      "text/plain": [
       "<Figure size 800x800 with 1 Axes>"
      ]
     },
     "metadata": {},
     "output_type": "display_data"
    }
   ],
   "source": [
    "import matplotlib.pyplot as plt\n",
    "\n",
    "datapath3 = \"C:/Users/mbane/Downloads/roman-emperor-reigns.csv\"\n",
    "\n",
    "emperor_data = pd.read_csv(datapath3)\n",
    "\n",
    "assassinated_count = emperor_data[emperor_data['Cause_of_Death'] == 'Assassinated'].shape[0]\n",
    "total_emperors = emperor_data.shape[0]\n",
    "other_causes_count = total_emperors - assassinated_count\n",
    "\n",
    "labels = 'Assassinated', 'Died of Other Causes'\n",
    "sizes = [assassinated_count, other_causes_count]\n",
    "colors = ['lightblue', 'grey']\n",
    "explode = (0.1, 0)\n",
    "\n",
    "plt.figure(figsize=(8, 8))\n",
    "plt.pie(sizes, explode=explode, labels=labels, colors=colors, autopct='%1.1f%%', shadow=True, startangle=140)\n",
    "plt.axis('equal')  # Equal aspect ratio ensures that pie is drawn as a circle.\n",
    "plt.title('Fraction of Roman Emperors Assassinated')\n",
    "plt.show()"
   ]
  },
  {
   "cell_type": "markdown",
   "id": "a7826eb9",
   "metadata": {},
   "source": [
    "# Question 10"
   ]
  },
  {
   "cell_type": "code",
   "execution_count": 21,
   "id": "ca78c964",
   "metadata": {},
   "outputs": [
    {
     "data": {
      "text/html": [
       "<div>\n",
       "<style scoped>\n",
       "    .dataframe tbody tr th:only-of-type {\n",
       "        vertical-align: middle;\n",
       "    }\n",
       "\n",
       "    .dataframe tbody tr th {\n",
       "        vertical-align: top;\n",
       "    }\n",
       "\n",
       "    .dataframe thead th {\n",
       "        text-align: right;\n",
       "    }\n",
       "</style>\n",
       "<table border=\"1\" class=\"dataframe\">\n",
       "  <thead>\n",
       "    <tr style=\"text-align: right;\">\n",
       "      <th></th>\n",
       "      <th>Year</th>\n",
       "      <th>Total Arcade Revenue (billions)</th>\n",
       "      <th>Computer Science Doctorates Awarded (US)</th>\n",
       "    </tr>\n",
       "  </thead>\n",
       "  <tbody>\n",
       "    <tr>\n",
       "      <th>0</th>\n",
       "      <td>2000</td>\n",
       "      <td>1.196</td>\n",
       "      <td>861</td>\n",
       "    </tr>\n",
       "    <tr>\n",
       "      <th>1</th>\n",
       "      <td>2001</td>\n",
       "      <td>1.176</td>\n",
       "      <td>830</td>\n",
       "    </tr>\n",
       "    <tr>\n",
       "      <th>2</th>\n",
       "      <td>2002</td>\n",
       "      <td>1.269</td>\n",
       "      <td>809</td>\n",
       "    </tr>\n",
       "    <tr>\n",
       "      <th>3</th>\n",
       "      <td>2003</td>\n",
       "      <td>1.240</td>\n",
       "      <td>867</td>\n",
       "    </tr>\n",
       "    <tr>\n",
       "      <th>4</th>\n",
       "      <td>2004</td>\n",
       "      <td>1.307</td>\n",
       "      <td>948</td>\n",
       "    </tr>\n",
       "  </tbody>\n",
       "</table>\n",
       "</div>"
      ],
      "text/plain": [
       "   Year  Total Arcade Revenue (billions)  \\\n",
       "0  2000                            1.196   \n",
       "1  2001                            1.176   \n",
       "2  2002                            1.269   \n",
       "3  2003                            1.240   \n",
       "4  2004                            1.307   \n",
       "\n",
       "   Computer Science Doctorates Awarded (US)  \n",
       "0                                       861  \n",
       "1                                       830  \n",
       "2                                       809  \n",
       "3                                       867  \n",
       "4                                       948  "
      ]
     },
     "execution_count": 21,
     "metadata": {},
     "output_type": "execute_result"
    }
   ],
   "source": [
    "import pandas as pd\n",
    "import matplotlib.pyplot as plt\n",
    "\n",
    "arcadedatapath = \"C:/Users/mbane/Downloads/arcade-revenue-vs-cs-doctorates.csv\"\n",
    "\n",
    "arcade = pd.read_csv(arcadedatapath)\n",
    "\n",
    "arcade.head()\n",
    "\n"
   ]
  },
  {
   "cell_type": "code",
   "execution_count": 22,
   "id": "ed595e94",
   "metadata": {},
   "outputs": [
    {
     "data": {
      "image/png": "[encoded data removed]",
      "text/plain": [
       "<Figure size 1000x600 with 2 Axes>"
      ]
     },
     "metadata": {},
     "output_type": "display_data"
    }
   ],
   "source": [
    "arcade = arcade[(arcade['Year'] >= 2000) & (arcade['Year'] <= 2009)]\n",
    "\n",
    "plt.figure(figsize=(10, 6))\n",
    "scatter = plt.scatter(arcade['Total Arcade Revenue (billions)'], arcade['Computer Science Doctorates Awarded (US)'], c=arcade['Year'], cmap='viridis')\n",
    "\n",
    "\n",
    "plt.xlabel('Total Revenue Earned by Arcades')\n",
    "plt.ylabel('Number of Computer Science PhDs Awarded')\n",
    "\n",
    "\n",
    "cbar = plt.colorbar(scatter)\n",
    "cbar.set_label('Year')\n",
    "\n",
    "\n",
    "plt.title('Arcade Revenue vs. Computer Science PhDs Awarded (2000-2009)')\n",
    "\n",
    "\n",
    "plt.show()"
   ]
  },
  {
   "cell_type": "code",
   "execution_count": null,
   "id": "4e8e69d8",
   "metadata": {},
   "outputs": [],
   "source": []
  },
  {
   "cell_type": "code",
   "execution_count": null,
   "id": "defceaa2",
   "metadata": {},
   "outputs": [],
   "source": []
  }
 ],
 "metadata": {
  "kernelspec": {
   "display_name": "Python 3 (ipykernel)",
   "language": "python",
   "name": "python3"
  },
  "language_info": {
   "codemirror_mode": {
    "name": "ipython",
    "version": 3
   },
   "file_extension": ".py",
   "mimetype": "text/x-python",
   "name": "python",
   "nbconvert_exporter": "python",
   "pygments_lexer": "ipython3",
   "version": "3.11.5"
  }
 },
 "nbformat": 4,
 "nbformat_minor": 5
}
